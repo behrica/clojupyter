{
 "cells": [
  {
   "cell_type": "code",
   "execution_count": 1,
   "id": "d0fffd5c-d237-49e7-a1ad-a7de7692bf34",
   "metadata": {},
   "outputs": [
    {
     "name": "stderr",
     "output_type": "stream",
     "text": [
      "Execution error (FileNotFoundException) at user/eval6165 (REPL:1).\n",
      "Could not locate tablecloth/api__init.class, tablecloth/api.clj or tablecloth/api.cljc on classpath.\n"
     ]
    },
    {
     "ename": "class java.io.FileNotFoundException",
     "evalue": "",
     "execution_count": 1,
     "output_type": "error",
     "status": "error",
     "traceback": [
      "core.clj:  6162 clojure.core$load$fn__6908/invoke",
      "core.clj:  6161 clojure.core$load/invokeStatic",
      "core.clj:  6145 clojure.core$load/doInvoke",
      "core.clj:  5934 clojure.core$load_one/invokeStatic",
      "core.clj:  5929 clojure.core$load_one/invoke",
      "core.clj:  5976 clojure.core$load_lib$fn__6850/invoke",
      "core.clj:  5975 clojure.core$load_lib/invokeStatic",
      "core.clj:  5954 clojure.core$load_lib/doInvoke",
      "core.clj:  6017 clojure.core$load_libs/invokeStatic",
      "core.clj:  6001 clojure.core$load_libs/doInvoke",
      "core.clj:  6039 clojure.core$require/invokeStatic"
     ]
    }
   ],
   "source": [
    "(require '[tablecloth.api :as tc])"
   ]
  },
  {
   "cell_type": "code",
   "execution_count": 3,
   "id": "1479d99b-fa50-490d-a395-4302ab3a5c7c",
   "metadata": {},
   "outputs": [
    {
     "data": {
      "text/plain": [
       "nil"
      ]
     },
     "execution_count": 3,
     "metadata": {},
     "output_type": "execute_result"
    }
   ],
   "source": [
    "\n",
    "  (\n",
    "   require '[scicloj.kindly-advice.v1.api :as kindly-advice]\n",
    "            '[scicloj.kindly.v4.kind :as kind]\n",
    "            '[scicloj.kindly.v4.api :as kindly])"
   ]
  },
  {
   "cell_type": "code",
   "execution_count": 4,
   "id": "04a0f1d3-9db8-4602-93fb-c272779fc722",
   "metadata": {},
   "outputs": [
    {
     "data": {
      "text/plain": [
       "{:value [:div [:h1 \"hello\"]], :meta-kind :kind/hiccup, :kindly/options {}, :kind :kind/hiccup, :advice [[:kind/hiccup {:reason :metadata}] [:kind/vector {:reason :predicate}] [:kind/seq {:reason :predicate}]]}"
      ]
     },
     "execution_count": 4,
     "metadata": {},
     "output_type": "execute_result"
    }
   ],
   "source": [
    "(-> {:value (kind/hiccup\n",
    "             [:div [:h1 \"hello\"]])}\n",
    "    kindly-advice/advise\n",
    "    kind/pprint)"
   ]
  },
  {
   "cell_type": "code",
   "execution_count": 5,
   "id": "3aaef4cd-e66d-4271-90ee-85b18d4f15e8",
   "metadata": {},
   "outputs": [
    {
     "data": {
      "text/plain": [
       "#:kindly{:kind :kind/hiccup, :options nil}"
      ]
     },
     "execution_count": 5,
     "metadata": {},
     "output_type": "execute_result"
    }
   ],
   "source": [
    "(meta (kind/hiccup\n",
    "             [:div [:h1 \"hello\"]]))"
   ]
  },
  {
   "cell_type": "code",
   "execution_count": 6,
   "id": "ddaa9bc2-ecd2-4725-8d3c-9148103d8c7e",
   "metadata": {},
   "outputs": [
    {
     "data": {
      "text/plain": [
       "[:div [:h1 \"hello\"]]"
      ]
     },
     "execution_count": 6,
     "metadata": {},
     "output_type": "execute_result"
    }
   ],
   "source": [
    "(kind/hiccup [:div [:h1 \"hello\"]])"
   ]
  },
  {
   "cell_type": "code",
   "execution_count": null,
   "id": "7f12674a-0c20-45ba-9a66-ca7b01ef742c",
   "metadata": {},
   "outputs": [],
   "source": []
  }
 ],
 "metadata": {
  "kernelspec": {
   "display_name": "Clojure (clojupyter-0.4.335)",
   "language": "clojure",
   "name": "clojupyter-0.4.335"
  },
  "language_info": {
   "file_extension": ".clj",
   "mimetype": "text/x-clojure",
   "name": "clojure",
   "version": "1.11.3"
  }
 },
 "nbformat": 4,
 "nbformat_minor": 5
}
