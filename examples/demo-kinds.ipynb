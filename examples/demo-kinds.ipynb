{
 "cells": [
  {
   "cell_type": "code",
   "execution_count": null,
   "id": "de614c08-3919-47dc-b3a4-be59a2966b6c",
   "metadata": {},
   "outputs": [],
   "source": [
    "(require '[clojupyter.misc.helper :as helper])\n",
    "(def _ (helper/add-dependencies '[org.scicloj/noj \"2-beta4\"]))"
   ]
  },
  {
   "cell_type": "code",
   "execution_count": null,
   "id": "172d9ba4-ca73-4e44-a36e-f2bdd93af00e",
   "metadata": {},
   "outputs": [],
   "source": [
    "(require '[tablecloth.api :as tc]\n",
    "         '[clojure.string :as str]\n",
    "         '[scicloj.kindly.v4.kind :as kind]\n",
    "         '[scicloj.tableplot.v1.plotly :as plotly]\n",
    "         '[scicloj.tableplot.v1.hanami :as hanami]\n",
    "         '[scicloj.kindly-advice.v1.api :as kindly-advice]\n",
    "         '[scicloj.kindly.v4.kind :as kind]\n",
    "         '[scicloj.kindly.v4.api :as kindly]\n",
    "         '[clojupyter.display :as display]\n",
    "         '[cheshire.core :as cheshire]\n",
    "         )"
   ]
  },
  {
   "cell_type": "markdown",
   "id": "0f5ae22f-7e8e-4bc5-a45c-ba89ba8b2e0f",
   "metadata": {},
   "source": [
    "some helper functions"
   ]
  },
  {
   "cell_type": "code",
   "execution_count": null,
   "id": "5368188b-4387-4bb4-919a-f0f09c565474",
   "metadata": {},
   "outputs": [],
   "source": [
    "(import javax.imageio.ImageIO\n",
    "        java.net.URL)\n",
    "\n",
    "(def image \n",
    "(kind/image\n",
    "  (->  \"https://upload.wikimedia.org/wikipedia/commons/e/eb/Ash_Tree_-_geograph.org.uk_-_590710.jpg\"\n",
    "       (java.net.URL.)\n",
    "       (javax.imageio.ImageIO/read))))\n",
    "\n",
    "(defn p [mark-size] \n",
    "    (-> iris\n",
    "    (plotly/layer-point {:=x :sepal-width\n",
    "                         :=y :sepal-length\n",
    "                         :=color :species\n",
    "                         :=mark-size mark-size})\n",
    "    plotly/plot))\n",
    "\n",
    "\n",
    "(defonce clay-image\n",
    "  (->  \"https://upload.wikimedia.org/wikipedia/commons/2/2c/Clay-ss-2005.jpg\"\n",
    "       (URL.)\n",
    "       (ImageIO/read)))\n",
    "\n",
    "(defn vega-lite-point-plot [data]\n",
    "  (-> {:data {:values data},\n",
    "       :mark \"point\"\n",
    "       :encoding\n",
    "       {:size {:field \"w\" :type \"quantitative\"}\n",
    "        :x {:field \"x\", :type \"quantitative\"},\n",
    "        :y {:field \"y\", :type \"quantitative\"},\n",
    "        :fill {:field \"z\", :type \"nominal\"}}}\n",
    "      kind/vega-lite))\n",
    "\n",
    "(defn random-data [n]\n",
    "  (->> (repeatedly n #(- (rand) 0.5))\n",
    "       (reductions +)\n",
    "       (map-indexed (fn [x y]\n",
    "                      {:w (rand-int 9)\n",
    "                       :z (rand-int 9)\n",
    "                       :x x\n",
    "                       :y y}))))\n",
    "\n",
    "(defn random-vega-lite-plot [n]\n",
    "  (-> n\n",
    "      random-data\n",
    "      vega-lite-point-plot))\n",
    "\n",
    "(defn fetch-dataset [dataset-name]\n",
    "  (-> dataset-name\n",
    "      (->> (format \"https://vincentarelbundock.github.io/Rdatasets/csv/%s.csv\"))\n",
    "      (tc/dataset {:key-fn (fn [k]\n",
    "                             (-> k\n",
    "                                 str/lower-case\n",
    "                                 (str/replace #\"\\.\" \"-\")\n",
    "                                 keyword))})\n",
    "      (tc/set-dataset-name dataset-name)))\n",
    "(defonce iris\n",
    "  (fetch-dataset \"datasets/iris\"))"
   ]
  },
  {
   "cell_type": "markdown",
   "id": "2e31cf44-5346-498e-8a01-0710a0fe2fba",
   "metadata": {},
   "source": [
    "# Supported kinds\n",
    "    "
   ]
  },
  {
   "cell_type": "markdown",
   "id": "21dabc97-1f5b-4230-a256-e7e78801ef10",
   "metadata": {},
   "source": [
    "## :kind/dataset"
   ]
  },
  {
   "cell_type": "code",
   "execution_count": null,
   "id": "6a58f496-2f92-49b2-82d8-4c9db0c1f1c7",
   "metadata": {},
   "outputs": [],
   "source": [
    "iris"
   ]
  },
  {
   "cell_type": "markdown",
   "id": "e88aa428-80e4-472a-80dc-1263bfc17415",
   "metadata": {},
   "source": [
    "## :kind/plotly"
   ]
  },
  {
   "cell_type": "code",
   "execution_count": null,
   "id": "c57f8687-ff33-4b0d-9106-f480c4e3a7b0",
   "metadata": {},
   "outputs": [],
   "source": [
    "(-> iris\n",
    "    (plotly/layer-point {:=x :sepal-width\n",
    "                         :=y :sepal-length\n",
    "                         :=color :species\n",
    "                         :=mark-size 10})\n",
    "    plotly/plot)"
   ]
  },
  {
   "cell_type": "code",
   "execution_count": null,
   "id": "7a4b8c01-9bc7-44b5-8dfa-d560bbe81318",
   "metadata": {},
   "outputs": [],
   "source": [
    "(def plotly-example\n",
    "  {:data [{:x [0 1 3 2]\n",
    "           :y [0 6 4 5]\n",
    "           :z [0 8 9 7]\n",
    "           :type :scatter3d\n",
    "           :mode :lines+markers\n",
    "           :opacity 0.5\n",
    "           :line {:width 5}\n",
    "           :marker {:size 4\n",
    "                    :colorscale :Viridis}}]\n",
    "   :layout {:title \"Plotly example\"}})\n",
    "\n",
    "(kind/plotly\n",
    " plotly-example)"
   ]
  },
  {
   "cell_type": "markdown",
   "id": "b2910f17-0f13-4456-95cf-e8504b2d37b5",
   "metadata": {},
   "source": [
    "## :kind/md"
   ]
  },
  {
   "cell_type": "code",
   "execution_count": null,
   "id": "ec7ce230-a18c-4b52-89ff-91bc275de322",
   "metadata": {},
   "outputs": [],
   "source": [
    "(kind/md \"**bold**\")"
   ]
  },
  {
   "cell_type": "markdown",
   "id": "efe3ae60-bba4-4cfb-a9ed-382c2bfc23b1",
   "metadata": {},
   "source": [
    "##  :kind/vega-lite"
   ]
  },
  {
   "cell_type": "code",
   "execution_count": null,
   "id": "626087db-1628-477f-9b9a-1770d002a93d",
   "metadata": {},
   "outputs": [],
   "source": [
    "(-> iris\n",
    "    (hanami/plot hanami/point-chart\n",
    "                 {:=x :sepal-width\n",
    "                  :=y :sepal-length\n",
    "                  :=color :species\n",
    "                  :=mark-size 200}))"
   ]
  },
  {
   "cell_type": "markdown",
   "id": "aff26dd4-b172-4acc-bd91-9ea0f9b58bd2",
   "metadata": {},
   "source": [
    "## :kind/tex"
   ]
  },
  {
   "cell_type": "code",
   "execution_count": null,
   "id": "592d21bb-cf45-4471-97b5-6e263136716b",
   "metadata": {},
   "outputs": [],
   "source": [
    "(kind/tex \"$\\\\sin{x}$\")"
   ]
  },
  {
   "cell_type": "markdown",
   "id": "9f8c1454-53a7-4ec3-810f-54811eceafe2",
   "metadata": {},
   "source": [
    "## :kind/image"
   ]
  },
  {
   "cell_type": "code",
   "execution_count": null,
   "id": "08805465-ce9e-4871-b84c-9a60bb704cb9",
   "metadata": {},
   "outputs": [],
   "source": [
    "(kind/image\n",
    "  (->  \"https://upload.wikimedia.org/wikipedia/commons/e/eb/Ash_Tree_-_geograph.org.uk_-_590710.jpg\"\n",
    "       (java.net.URL.)\n",
    "       (javax.imageio.ImageIO/read)))"
   ]
  },
  {
   "cell_type": "markdown",
   "id": "dab1e8fb-db36-40c1-9112-b445af23f74c",
   "metadata": {},
   "source": [
    "## :kind/html"
   ]
  },
  {
   "cell_type": "code",
   "execution_count": null,
   "id": "8787bf23-c2fb-48c4-8bc7-c514e8dfc4ea",
   "metadata": {},
   "outputs": [],
   "source": [
    "(kind/html\n",
    " \"\n",
    "<svg height=100 width=100>\n",
    "<circle cx=50 cy=50 r=40 stroke='purple' stroke-width=3 fill='floralwhite' />\n",
    "</svg> \")"
   ]
  },
  {
   "cell_type": "markdown",
   "id": "6b36fb17-e3dd-4460-b51d-04a7f68904a0",
   "metadata": {},
   "source": [
    "## :kind/echarts\n"
   ]
  },
  {
   "cell_type": "code",
   "execution_count": null,
   "id": "a5e415fd-7497-487b-b0aa-1713982397c8",
   "metadata": {},
   "outputs": [],
   "source": [
    "(kind/echarts\n",
    " {:title {:text \"Echarts Example\"}\n",
    "  :tooltip {}\n",
    "  :legend {:data [\"sales\"]}\n",
    "  :xAxis {:data [\"Shirts\", \"Cardigans\", \"Chiffons\",\n",
    "                 \"Pants\", \"Heels\", \"Socks\"]}\n",
    "  :yAxis {}\n",
    "  :series [{:name \"sales\"\n",
    "            :type \"bar\"\n",
    "            :data [5 20 36\n",
    "                   10 10 20]}]})"
   ]
  },
  {
   "cell_type": "code",
   "execution_count": null,
   "id": "dd25249c-deb8-4044-9f99-e7bb3045a7b6",
   "metadata": {},
   "outputs": [],
   "source": [
    "^kind/tex [\"$\\\\sqrt{x^2+1}$\"]"
   ]
  },
  {
   "cell_type": "code",
   "execution_count": null,
   "id": "95c21ce2-bfa2-457a-ae0e-bdc8e7283619",
   "metadata": {},
   "outputs": [],
   "source": [
    "^kind/tex [\"$\\\\sqrt{x^2+1}$\" \"$\\\\sqrt{x^2+1}$\"]"
   ]
  },
  {
   "cell_type": "code",
   "execution_count": null,
   "id": "bd3d72c8-77d9-4ff8-b39c-e871384d1707",
   "metadata": {},
   "outputs": [],
   "source": [
    "(kind/hiccup\n",
    " [:table [:tr [:td \"$\\\\sqrt{x^2+1}$\"]]\n",
    "         [:tr [:td \"$\\\\sin{x}$\"]]])\n",
    " "
   ]
  },
  {
   "cell_type": "markdown",
   "id": "80bcb15e-2819-4ea2-813c-5c8fef6212df",
   "metadata": {},
   "source": [
    "## :kind/cytoscope\n"
   ]
  },
  {
   "cell_type": "code",
   "execution_count": null,
   "id": "437d9086-e30d-4a44-a193-bcc95718c7ec",
   "metadata": {},
   "outputs": [],
   "source": [
    "(kind/cytoscape\n",
    " {:elements {:nodes [{:data {:id \"a\" :parent \"b\"} :position {:x 215 :y 85}}\n",
    "                     {:data {:id \"b\"}}\n",
    "                     {:data {:id \"c\" :parent \"b\"} :position {:x 300 :y 85}}\n",
    "                     {:data {:id \"d\"} :position {:x 215 :y 175}}\n",
    "                     {:data {:id \"e\"}}\n",
    "                     {:data {:id \"f\" :parent \"e\"} :position {:x 300 :y 175}}]\n",
    "             :edges [{:data {:id \"ad\" :source \"a\" :target \"d\"}}\n",
    "                     {:data {:id \"eb\" :source \"e\" :target \"b\"}}]}\n",
    "  :style [{:selector \"node\"\n",
    "           :css {:content \"data(id)\"\n",
    "                 :text-valign \"center\"\n",
    "                 :text-halign \"center\"}}\n",
    "          {:selector \"parent\"\n",
    "           :css {:text-valign \"top\"\n",
    "                 :text-halign \"center\"}}\n",
    "          {:selector \"edge\"\n",
    "           :css {:curve-style \"bezier\"\n",
    "                 :target-arrow-shape \"triangle\"}}]\n",
    "  :layout {:name \"preset\"\n",
    "           :padding 5}})"
   ]
  },
  {
   "cell_type": "markdown",
   "id": "db019ba0-91b4-4a5f-8574-2e4a5cf4e8f4",
   "metadata": {},
   "source": [
    "## :kind/code"
   ]
  },
  {
   "cell_type": "code",
   "execution_count": null,
   "id": "496f1880-6c8f-4903-aa47-f0606f2b3c2e",
   "metadata": {},
   "outputs": [],
   "source": [
    "(kind/code\n",
    " '(defn f [x] {:y (+  x 9)}))"
   ]
  },
  {
   "cell_type": "markdown",
   "id": "19c8d639-e802-453e-a312-579afeeeb52c",
   "metadata": {},
   "source": [
    "## :kind/hidden"
   ]
  },
  {
   "cell_type": "code",
   "execution_count": null,
   "id": "eb660360-fc59-44cf-80e3-697d2993e035",
   "metadata": {},
   "outputs": [],
   "source": [
    "(kind/hidden\n",
    " {:x 9})"
   ]
  },
  {
   "cell_type": "markdown",
   "id": "b913b8e8-0c7a-458d-a522-42c809f33cdb",
   "metadata": {},
   "source": [
    "## :kind/video"
   ]
  },
  {
   "cell_type": "code",
   "execution_count": null,
   "id": "2049adb7-bdb4-4bc1-be8b-16598faad44c",
   "metadata": {},
   "outputs": [],
   "source": [
    "(kind/video\n",
    " {:youtube-id \"DAQnvAgBma8\"})"
   ]
  },
  {
   "cell_type": "markdown",
   "id": "c46f7b97-89d4-470b-b594-fe72980b43d2",
   "metadata": {},
   "source": [
    "## :kind/pprint"
   ]
  },
  {
   "cell_type": "code",
   "execution_count": null,
   "id": "1513a342-4d02-4024-b6c0-2f6fa2566805",
   "metadata": {},
   "outputs": [],
   "source": [
    "(->> (range 30)\n",
    "     (apply array-map)\n",
    "     kind/pprint)"
   ]
  },
  {
   "cell_type": "markdown",
   "id": "747864e7-74f9-46a5-ad20-4954ec23fca9",
   "metadata": {},
   "source": [
    "## :kind/fragment"
   ]
  },
  {
   "cell_type": "code",
   "execution_count": null,
   "id": "6a32802d-8148-452b-8142-37bbfe2d01f2",
   "metadata": {},
   "outputs": [],
   "source": [
    "(->> [\"purple\" \"darkgreen\" \"goldenrod\"]\n",
    "     (mapcat (fn [color]\n",
    "               [(kind/md (str \"### subsection: \" color))\n",
    "                (kind/hiccup [:div {:style {:background-color color\n",
    "                                            :color \"lightgrey\"}}\n",
    "                              [:big [:p color]]])]))\n",
    "     kind/fragment)"
   ]
  },
  {
   "cell_type": "markdown",
   "id": "2294c18f-8e4e-4f15-b4cf-ccbf918e6b0f",
   "metadata": {},
   "source": [
    "## :kind/portal"
   ]
  },
  {
   "cell_type": "code",
   "execution_count": null,
   "id": "fef69f5d-afcd-4063-b1db-87b627383718",
   "metadata": {},
   "outputs": [],
   "source": [
    "(kind/portal\n",
    " {:x (range 3)})"
   ]
  },
  {
   "cell_type": "markdown",
   "id": "eb34685b-b61a-4b6b-bf9d-5c2867cdd50e",
   "metadata": {},
   "source": [
    "## :kind/highcharts"
   ]
  },
  {
   "cell_type": "code",
   "execution_count": null,
   "id": "d8bff061-7d5d-48c9-8f8c-fbb61b915fce",
   "metadata": {
    "scrolled": true
   },
   "outputs": [],
   "source": [
    "(kind/highcharts\n",
    " {:title {:text \"Line chart\"}\n",
    "  :subtitle {:text \"By Job Category\"}\n",
    "  :yAxis {:title {:text \"Number of Employees\"}}\n",
    "  :series [{:name \"Installation & Developers\"\n",
    "            :data [43934, 48656, 65165, 81827, 112143, 142383,\n",
    "                   171533, 165174, 155157, 161454, 154610]}\n",
    "\n",
    "           {:name \"Manufacturing\",\n",
    "            :data [24916, 37941, 29742, 29851, 32490, 30282,\n",
    "                   38121, 36885, 33726, 34243, 31050]}\n",
    "\n",
    "           {:name \"Sales & Distribution\",\n",
    "            :data [11744, 30000, 16005, 19771, 20185, 24377,\n",
    "                   32147, 30912, 29243, 29213, 25663]}\n",
    "\n",
    "           {:name \"Operations & Maintenance\",\n",
    "            :data [nil, nil, nil, nil, nil, nil, nil,\n",
    "                   nil, 11164, 11218, 10077]}\n",
    "\n",
    "           {:name \"Other\",\n",
    "            :data [21908, 5548, 8105, 11248, 8989, 11816, 18274,\n",
    "                   17300, 13053, 11906, 10073]}]\n",
    "\n",
    "  :xAxis {:accessibility {:rangeDescription \"Range: 2010 to 2020\"}}\n",
    "\n",
    "  :legend {:layout \"vertical\",\n",
    "           :align \"right\",\n",
    "           :verticalAlign \"middle\"}\n",
    "\n",
    "  :plotOptions {:series {:label {:connectorAllowed false},\n",
    "                         :pointStart 2010}}\n",
    "\n",
    "  :responsive {:rules [{:condition {:maxWidth 500},\n",
    "                        :chartOptions {:legend {:layout \"horizontal\",\n",
    "                                                :align \"center\",\n",
    "                                                :verticalAlign \"bottom\"}}}]}})"
   ]
  },
  {
   "cell_type": "markdown",
   "id": "c4b60e95-5d0e-479a-ac43-0f8b3fa5056b",
   "metadata": {},
   "source": [
    "## :kind/fn\n",
    "\n",
    "Partialy working\n"
   ]
  },
  {
   "cell_type": "code",
   "execution_count": null,
   "id": "cc89a34d-4b66-4cc7-b8d7-99a2ebd2bb0c",
   "metadata": {},
   "outputs": [],
   "source": [
    "(-> iris\n",
    "    (plotly/layer-point {:=x :sepal-width\n",
    "                         :=y :sepal-length\n",
    "                         :=color :species\n",
    "                         :=mark-size 10}))"
   ]
  },
  {
   "cell_type": "markdown",
   "id": "75b02ac4-1535-495a-a4ab-4bdc2152436f",
   "metadata": {},
   "source": [
    "## :kind/table\n"
   ]
  },
  {
   "cell_type": "code",
   "execution_count": null,
   "id": "6f8acb8e-5e66-4d99-b815-2d36d2f3650a",
   "metadata": {},
   "outputs": [],
   "source": [
    "(kind/table {:column-names [:a :b] :row-vectors [[1 2]]})"
   ]
  },
  {
   "cell_type": "markdown",
   "id": "cafb6f9f-34c7-4721-8d40-9e3940a3c963",
   "metadata": {},
   "source": [
    "table header not working ...\n"
   ]
  },
  {
   "cell_type": "code",
   "execution_count": null,
   "id": "a0731db0-f2cb-4cec-8cf0-4042cce183d7",
   "metadata": {},
   "outputs": [],
   "source": [
    "(kind/table\n",
    " {:column-names [(kind/hiccup\n",
    "                  [:div {:style {:background-color \"#ccaabb\"}} [:big \":x\"]])\n",
    "                 (kind/hiccup\n",
    "                  [:div {:style {:background-color \"#aabbcc\"}} [:big \":y\"]])]\n",
    "  :row-vectors [[ \"*some text* **some more text**\"\n",
    "                 (kind/code \"{:x (1 2 [3 4])}\")]\n",
    "                [(tc/dataset {:x (range 3)\n",
    "                              :y (map inc (range 3))})\n",
    "                 (p 9)]\n",
    "                [(kind/plotly plotly-example)\n",
    "                 (kind/md \"$x^2$\")]]})"
   ]
  },
  {
   "cell_type": "markdown",
   "id": "1a34a20c-db2c-4e34-bcdf-221a0094419f",
   "metadata": {},
   "source": [
    "## most kinds (but not all) can be nested inside a few containers"
   ]
  },
  {
   "cell_type": "markdown",
   "id": "ad950c57-2f6e-4357-ae93-ab2b6f304304",
   "metadata": {},
   "source": [
    "### in hiccup"
   ]
  },
  {
   "cell_type": "code",
   "execution_count": null,
   "id": "04785fe4-91d2-4c45-ab4d-922062360aab",
   "metadata": {},
   "outputs": [],
   "source": [
    "\n",
    "(kind/hiccup [:ul \n",
    "              [:li 1] \n",
    "              [:li (p 10)] \n",
    "              [:li 3]\n",
    "              [:li image]])"
   ]
  },
  {
   "cell_type": "markdown",
   "id": "bdbc633e-dab1-47f3-855a-f7aa3c419649",
   "metadata": {},
   "source": [
    "### in seq\n",
    "    "
   ]
  },
  {
   "cell_type": "code",
   "execution_count": null,
   "id": "021d5577-2336-47b4-9980-874bd1860131",
   "metadata": {},
   "outputs": [],
   "source": [
    "[(p 1) (p 5) (p 10)]"
   ]
  },
  {
   "cell_type": "markdown",
   "id": "fe56ecd5-831f-41fe-a6ea-c3774630d7e8",
   "metadata": {},
   "source": [
    "## kinds can as well be on vars\n",
    "\n",
    "In this example the \"kind\" is not medatadata of the value, but metadata of the var."
   ]
  },
  {
   "cell_type": "code",
   "execution_count": null,
   "id": "d78ec9dc-9d6f-446f-825c-c002919c33c0",
   "metadata": {},
   "outputs": [],
   "source": [
    "(def iris-no-meta\n",
    " (with-meta\n",
    "   (-> iris\n",
    "    (hanami/plot hanami/point-chart\n",
    "                 {:=x :sepal-width\n",
    "                  :=y :sepal-length\n",
    "                  :=color :species\n",
    "                  :=mark-size 200}))\n",
    "    {}))"
   ]
  },
  {
   "cell_type": "code",
   "execution_count": null,
   "id": "03deb597-7ac8-4e8f-aa97-802409888e33",
   "metadata": {},
   "outputs": [],
   "source": [
    "^kind/vega-lite iris-no-meta"
   ]
  }
 ],
 "metadata": {
  "kernelspec": {
   "display_name": "Clojure (clojupyter-0.4.355355)",
   "language": "clojure",
   "name": "clojupyter-0.4.355355"
  },
  "language_info": {
   "file_extension": ".clj",
   "mimetype": "text/x-clojure",
   "name": "clojure",
   "version": "1.11.3"
  }
 },
 "nbformat": 4,
 "nbformat_minor": 5
}
