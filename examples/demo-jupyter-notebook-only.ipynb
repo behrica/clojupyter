{
 "cells": [
  {
   "cell_type": "markdown",
   "metadata": {},
   "source": [
    "# Clojupyter demo: Jupyter Notebook-only features"
   ]
  },
  {
   "cell_type": "markdown",
   "metadata": {},
   "source": [
    "This notebook demonstrates some features of Clojupyter for Jupyter Notebook. Please note that it uses <font color=red>**Notebook-only functionality**</font> and does not render correctly using *Jupyter Lab* which uses renderers instead of allowing direct access to external Javascript libraries.  See the Jupyter Lab demo notebook for details.\n"
   ]
  },
  {
   "cell_type": "markdown",
   "metadata": {},
   "source": [
    "## Charting using  external Javascript library: Highcharts"
   ]
  },
  {
   "cell_type": "markdown",
   "metadata": {},
   "source": [
    "Since you can render arbitrary HTML using display/hiccup-html, it's pretty easy to use external Javascript libraries to do things like generate charts. Here's an example using Highcharts."
   ]
  },
  {
   "cell_type": "code",
   "execution_count": 1,
   "metadata": {},
   "outputs": [
    {
     "data": {
      "text/html": [
       "<div><script>requirejs.config({\"paths\":{\"hicharts\":\"https:\\/\\/code.highcharts.com\\/highcharts\"},\"shim\":{\"hicharts\":{\"exports\":\"Highcharts\"}}});</script><pre>Javascript library added: https://code.highcharts.com/highcharts.</pre></div>"
      ]
     },
     "execution_count": 1,
     "metadata": {},
     "output_type": "execute_result"
    }
   ],
   "source": [
    "(require '[clojupyter.javascript.alpha :as cjp-js])\n",
    "(require '[clojupyter.display :as display])\n",
    "(require '[clojupyter.misc.helper :as helper])\n",
    "(require '[clojure.data.json :as json])\n",
    "(cjp-js/amd-add-javascript-html\n",
    "  [{:ident :hicharts :exports \"Highcharts\" :url \"https://code.highcharts.com/highcharts\"}])"
   ]
  },
  {
   "cell_type": "code",
   "execution_count": 2,
   "metadata": {},
   "outputs": [
    {
     "data": {
      "text/plain": [
       "#'user/data-2"
      ]
     },
     "execution_count": 2,
     "metadata": {},
     "output_type": "execute_result"
    }
   ],
   "source": [
    "(def raw-data (map #(int (+ (* 22 (+ % (Math/random)) 78))) (range)))\n",
    "(def data-1 (take 25 raw-data))\n",
    "(def data-2 (take 25 (drop 25 raw-data)))"
   ]
  },
  {
   "cell_type": "code",
   "execution_count": 3,
   "metadata": {},
   "outputs": [
    {
     "data": {
      "text/plain": [
       "#'user/highchart-chart"
      ]
     },
     "execution_count": 3,
     "metadata": {},
     "output_type": "execute_result"
    }
   ],
   "source": [
    "(defn highchart-chart\n",
    "  [nodeid data]\n",
    "  (cjp-js/amd-wrap-require [:hicharts]\n",
    "    (format \"function(hc){hc.chart('%s',%s)}\" nodeid (json/write-str data))))"
   ]
  },
  {
   "cell_type": "code",
   "execution_count": 4,
   "metadata": {},
   "outputs": [
    {
     "data": {
      "text/plain": [
       "#'user/CHART"
      ]
     },
     "execution_count": 4,
     "metadata": {},
     "output_type": "execute_result"
    }
   ],
   "source": [
    "(def CHART {:chart {:type \"line\"}\n",
    "            :title {:text (str \"External js library: Highcharts plot using \" (:formatted-version clojupyter/*version*))}\n",
    "            :series [{:data data-1} {:data data-2}]})"
   ]
  },
  {
   "cell_type": "code",
   "execution_count": 5,
   "metadata": {},
   "outputs": [
    {
     "data": {
      "text/html": [
       "<div><div id=\"G__6182\"></div><script>require([\"hicharts\"],function(hc){hc.chart('G__6182',{\"chart\":{\"type\":\"line\"},\"title\":{\"text\":\"External js library: Highcharts plot using \"},\"series\":[{\"data\":[489,2440,4445,6647,6881,9539,11378,12564,14871,17067,17797,20273,22066,22742,25279,27379,27780,29275,32156,34069,34779,36286,38342,40890,41203]},{\"data\":[43018,45124,47742,48613,50992,52543,54474,55139,56883,59364,60726,63105,64275,65970,67018,69828,70839,72267,75151,77188,77854,80018,82287,82568,85445]}]})});</script></div>"
      ]
     },
     "execution_count": 5,
     "metadata": {},
     "output_type": "execute_result"
    }
   ],
   "source": [
    "(display/hiccup-html \n",
    " (let [nodeid (gensym)]\n",
    "   [:div \n",
    "    [:div {:id nodeid}]\n",
    "    [:script (highchart-chart nodeid CHART)]]))"
   ]
  },
  {
   "cell_type": "markdown",
   "metadata": {},
   "source": [
    "<font color=red>**OBS The cell above fails to render the resulting Vega graph.  Needs fixing.**</font>"
   ]
  },
  {
   "cell_type": "markdown",
   "metadata": {},
   "source": [
    "## Charting using Clojure visualization library Oz"
   ]
  },
  {
   "cell_type": "markdown",
   "metadata": {},
   "source": [
    "[Oz](https://github.com/metasoarous/oz) is a data visualization and scientific document processing library for Clojure built around [Vega Lite](https://vega.github.io/vega-lite/) & [Vega](https://vega.github.io/).  Oz provides has a built-in interface to clojupyter, so all we have to do to use it is to load it into Clojure:"
   ]
  },
  {
   "cell_type": "code",
   "execution_count": 6,
   "metadata": {},
   "outputs": [],
   "source": [
    "(helper/add-dependencies '[metasoarous/oz \"1.5.6\"])\n",
    "(require '[oz.notebook.clojupyter :as oz]);"
   ]
  },
  {
   "cell_type": "markdown",
   "metadata": {},
   "source": [
    "For this demo we define some simple functions generating some data compatible with the high-level  charting library:"
   ]
  },
  {
   "cell_type": "code",
   "execution_count": 7,
   "metadata": {},
   "outputs": [],
   "source": [
    "(defn datapt [[s n]] {:Index s, :Value n})\n",
    "(defn graph  [vs]    {:data {:values vs}, \n",
    "                      :mark :line\n",
    "                      :encoding {:x {:field :Index}\n",
    "                                 :y {:field :Value}}})\n",
    "(def graph-it (comp graph (partial map datapt) (partial apply map vector)));"
   ]
  },
  {
   "cell_type": "markdown",
   "metadata": {},
   "source": [
    "With a generator for (slightly) random data..."
   ]
  },
  {
   "cell_type": "code",
   "execution_count": 8,
   "metadata": {},
   "outputs": [
    {
     "data": {
      "text/plain": [
       "#'user/raw-data"
      ]
     },
     "execution_count": 8,
     "metadata": {},
     "output_type": "execute_result"
    }
   ],
   "source": [
    "(defn raw-data [] (map #(+ % (rand-int 25)) (range)))"
   ]
  },
  {
   "cell_type": "markdown",
   "metadata": {},
   "source": [
    "...we can create a graph using Vega Lite:"
   ]
  },
  {
   "cell_type": "code",
   "execution_count": 9,
   "metadata": {},
   "outputs": [
    {
     "data": {
      "text/html": [
       "\n",
       "<div>\n",
       "  <div id='uuid-89e3d0b5-aae9-401e-aa23-30c18c3d8fe8'></div>\n",
       "  <script>\n",
       "  requirejs.config({\n",
       "    baseUrl: 'https://cdn.jsdelivr.net/npm/',\n",
       "    paths: {\n",
       "      'vega-embed':  'vega-embed@3?noext',\n",
       "      'vega-lib': 'vega-lib?noext',\n",
       "      'vega-lite': 'vega-lite@2?noext',\n",
       "      'vega': 'vega@3?noext'\n",
       "    }\n",
       "  });\n",
       "  require(['vega-embed'], function(vegaEmbed) {\n",
       "    let spec = {\"data\":{\"values\":[{\"Index\":0,\"Value\":13},{\"Index\":1,\"Value\":20},{\"Index\":2,\"Value\":22},{\"Index\":3,\"Value\":14},{\"Index\":4,\"Value\":24},{\"Index\":5,\"Value\":5},{\"Index\":6,\"Value\":16},{\"Index\":7,\"Value\":9},{\"Index\":8,\"Value\":19},{\"Index\":9,\"Value\":24},{\"Index\":10,\"Value\":17},{\"Index\":11,\"Value\":20},{\"Index\":12,\"Value\":32},{\"Index\":13,\"Value\":26},{\"Index\":14,\"Value\":17},{\"Index\":15,\"Value\":25},{\"Index\":16,\"Value\":39},{\"Index\":17,\"Value\":27},{\"Index\":18,\"Value\":20},{\"Index\":19,\"Value\":40},{\"Index\":20,\"Value\":29},{\"Index\":21,\"Value\":27},{\"Index\":22,\"Value\":44},{\"Index\":23,\"Value\":42},{\"Index\":24,\"Value\":27},{\"Index\":25,\"Value\":48},{\"Index\":26,\"Value\":38},{\"Index\":27,\"Value\":37},{\"Index\":28,\"Value\":44},{\"Index\":29,\"Value\":52},{\"Index\":30,\"Value\":39},{\"Index\":31,\"Value\":33},{\"Index\":32,\"Value\":50},{\"Index\":33,\"Value\":55},{\"Index\":34,\"Value\":41},{\"Index\":35,\"Value\":42},{\"Index\":36,\"Value\":55},{\"Index\":37,\"Value\":47},{\"Index\":38,\"Value\":45},{\"Index\":39,\"Value\":57},{\"Index\":40,\"Value\":48},{\"Index\":41,\"Value\":46},{\"Index\":42,\"Value\":65},{\"Index\":43,\"Value\":47},{\"Index\":44,\"Value\":52},{\"Index\":45,\"Value\":49},{\"Index\":46,\"Value\":59},{\"Index\":47,\"Value\":62},{\"Index\":48,\"Value\":64},{\"Index\":49,\"Value\":70},{\"Index\":50,\"Value\":58},{\"Index\":51,\"Value\":67},{\"Index\":52,\"Value\":72},{\"Index\":53,\"Value\":56},{\"Index\":54,\"Value\":74},{\"Index\":55,\"Value\":61},{\"Index\":56,\"Value\":56},{\"Index\":57,\"Value\":58},{\"Index\":58,\"Value\":75},{\"Index\":59,\"Value\":74},{\"Index\":60,\"Value\":61},{\"Index\":61,\"Value\":68},{\"Index\":62,\"Value\":69},{\"Index\":63,\"Value\":70},{\"Index\":64,\"Value\":75},{\"Index\":65,\"Value\":68},{\"Index\":66,\"Value\":76},{\"Index\":67,\"Value\":90},{\"Index\":68,\"Value\":76},{\"Index\":69,\"Value\":69},{\"Index\":70,\"Value\":91},{\"Index\":71,\"Value\":87},{\"Index\":72,\"Value\":84},{\"Index\":73,\"Value\":89},{\"Index\":74,\"Value\":74},{\"Index\":75,\"Value\":88},{\"Index\":76,\"Value\":99},{\"Index\":77,\"Value\":78},{\"Index\":78,\"Value\":94},{\"Index\":79,\"Value\":89},{\"Index\":80,\"Value\":84},{\"Index\":81,\"Value\":96},{\"Index\":82,\"Value\":102},{\"Index\":83,\"Value\":89},{\"Index\":84,\"Value\":104},{\"Index\":85,\"Value\":97},{\"Index\":86,\"Value\":93},{\"Index\":87,\"Value\":103},{\"Index\":88,\"Value\":112},{\"Index\":89,\"Value\":108},{\"Index\":90,\"Value\":111},{\"Index\":91,\"Value\":93},{\"Index\":92,\"Value\":94},{\"Index\":93,\"Value\":98},{\"Index\":94,\"Value\":96},{\"Index\":95,\"Value\":97},{\"Index\":96,\"Value\":103},{\"Index\":97,\"Value\":103},{\"Index\":98,\"Value\":115},{\"Index\":99,\"Value\":103},{\"Index\":100,\"Value\":111},{\"Index\":101,\"Value\":107},{\"Index\":102,\"Value\":118},{\"Index\":103,\"Value\":121},{\"Index\":104,\"Value\":124},{\"Index\":105,\"Value\":118},{\"Index\":106,\"Value\":115},{\"Index\":107,\"Value\":113},{\"Index\":108,\"Value\":115},{\"Index\":109,\"Value\":133},{\"Index\":110,\"Value\":111},{\"Index\":111,\"Value\":124},{\"Index\":112,\"Value\":132},{\"Index\":113,\"Value\":136},{\"Index\":114,\"Value\":115},{\"Index\":115,\"Value\":125},{\"Index\":116,\"Value\":138},{\"Index\":117,\"Value\":122},{\"Index\":118,\"Value\":118},{\"Index\":119,\"Value\":125},{\"Index\":120,\"Value\":131},{\"Index\":121,\"Value\":140},{\"Index\":122,\"Value\":135},{\"Index\":123,\"Value\":136},{\"Index\":124,\"Value\":135},{\"Index\":125,\"Value\":149},{\"Index\":126,\"Value\":131},{\"Index\":127,\"Value\":149},{\"Index\":128,\"Value\":140},{\"Index\":129,\"Value\":140},{\"Index\":130,\"Value\":138},{\"Index\":131,\"Value\":150},{\"Index\":132,\"Value\":145},{\"Index\":133,\"Value\":138},{\"Index\":134,\"Value\":158},{\"Index\":135,\"Value\":149},{\"Index\":136,\"Value\":160},{\"Index\":137,\"Value\":150},{\"Index\":138,\"Value\":156},{\"Index\":139,\"Value\":155},{\"Index\":140,\"Value\":140},{\"Index\":141,\"Value\":150},{\"Index\":142,\"Value\":151},{\"Index\":143,\"Value\":167},{\"Index\":144,\"Value\":160},{\"Index\":145,\"Value\":158},{\"Index\":146,\"Value\":170},{\"Index\":147,\"Value\":154},{\"Index\":148,\"Value\":153},{\"Index\":149,\"Value\":155}]},\"mark\":\"line\",\"encoding\":{\"x\":{\"field\":\"Index\"},\"y\":{\"field\":\"Value\"}}};\n",
       "    vegaEmbed('#uuid-89e3d0b5-aae9-401e-aa23-30c18c3d8fe8', spec, {defaultStyle:true}).catch(console.warn);\n",
       "    }, function(err) {\n",
       "    console.log('Failed to load');\n",
       "  });\n",
       "  </script>\n",
       "</div>\n",
       "  "
      ]
     },
     "execution_count": 9,
     "metadata": {},
     "output_type": "execute_result"
    }
   ],
   "source": [
    "(->> [(range) (take 150 (raw-data))]\n",
    "     graph-it\n",
    "     oz/view!)"
   ]
  },
  {
   "cell_type": "markdown",
   "metadata": {},
   "source": [
    "**Note**: The above cell is *not* supposed to render correctly in Jupyter Lab, <font color=red>**only Jupyter Notebook**</font>.  See Jupyter Lab demo notebook for details on how accomplish the same thing in Jupyter Lab."
   ]
  },
  {
   "cell_type": "code",
   "execution_count": null,
   "metadata": {},
   "outputs": [],
   "source": []
  }
 ],
 "metadata": {
  "kernelspec": {
   "display_name": "Clojure (clojupyter-0.4.335)",
   "language": "clojure",
   "name": "clojupyter-0.4.335"
  },
  "language_info": {
   "file_extension": ".clj",
   "mimetype": "text/x-clojure",
   "name": "clojure",
   "version": "1.11.3"
  },
  "toc": {
   "base_numbering": 1,
   "nav_menu": {},
   "number_sections": false,
   "sideBar": false,
   "skip_h1_title": false,
   "title_cell": "Table of Contents",
   "title_sidebar": "Contents",
   "toc_cell": false,
   "toc_position": {},
   "toc_section_display": false,
   "toc_window_display": false
  }
 },
 "nbformat": 4,
 "nbformat_minor": 4
}
