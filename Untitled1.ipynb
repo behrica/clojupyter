{
 "cells": [
  {
   "cell_type": "code",
   "execution_count": 4,
   "id": "1cdfb695-5da6-4b64-a664-f7e452807f15",
   "metadata": {},
   "outputs": [
    {
     "data": {
      "text/plain": [
       "nil"
      ]
     },
     "execution_count": 4,
     "metadata": {},
     "output_type": "execute_result"
    }
   ],
   "source": [
    "(require '[clojure.string :as str])"
   ]
  },
  {
   "cell_type": "code",
   "execution_count": null,
   "id": "750518f9-4564-48e2-8af2-79d422875dc9",
   "metadata": {},
   "outputs": [],
   "source": [
    "(clojure.string/"
   ]
  }
 ],
 "metadata": {
  "kernelspec": {
   "display_name": "Clojure (clojupyter-0.4.335)",
   "language": "clojure",
   "name": "clojupyter-0.4.335"
  },
  "language_info": {
   "file_extension": ".clj",
   "mimetype": "text/x-clojure",
   "name": "clojure",
   "version": "1.11.3"
  }
 },
 "nbformat": 4,
 "nbformat_minor": 5
}
