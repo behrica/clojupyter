{
 "cells": [
  {
   "cell_type": "code",
   "execution_count": 1,
   "id": "0fe82185-5814-4e91-ab36-02ea05249548",
   "metadata": {},
   "outputs": [
    {
     "data": {
      "text/plain": [
       "nil"
      ]
     },
     "execution_count": 1,
     "metadata": {},
     "output_type": "execute_result"
    }
   ],
   "source": [
    "(require '[tablecloth.api :as tc]\n",
    "    \n",
    "            '[scicloj.kindly-advice.v1.api :as kindly-advice]\n",
    "            '[scicloj.kindly.v4.kind :as kind]\n",
    "            '[scicloj.kindly.v4.api :as kindly])"
   ]
  },
  {
   "cell_type": "code",
   "execution_count": 2,
   "id": "3f56d974-b5b9-4bf0-8460-ffc0d8ed5cb8",
   "metadata": {},
   "outputs": [
    {
     "name": "stderr",
     "output_type": "stream",
     "text": [
      "Syntax error reading source at (REPL:2:1).\n",
      "Invalid token: tc/\n"
     ]
    },
    {
     "ename": "class clojure.lang.ExceptionInfo",
     "evalue": "",
     "execution_count": 2,
     "output_type": "error",
     "status": "error",
     "traceback": [
      "      Util.java:   221 clojure.lang.Util/runtimeException",
      "LispReader.java:   412 clojure.lang.LispReader/interpretToken",
      "LispReader.java:   305 clojure.lang.LispReader/read",
      "LispReader.java:  1398 clojure.lang.LispReader/readDelimitedList",
      "LispReader.java:  1243 clojure.lang.LispReader$ListReader/invoke",
      "LispReader.java:   285 clojure.lang.LispReader/read",
      "       core.clj:  3770 clojure.core$read/invokeStatic",
      "       core.clj:  3743 clojure.core$read/invoke"
     ]
    }
   ],
   "source": [
    "(tc/"
   ]
  },
  {
   "cell_type": "code",
   "execution_count": 11,
   "id": "5b231114-e7d1-4eb0-b403-d3e9070c4868",
   "metadata": {},
   "outputs": [
    {
     "data": {
      "text/plain": [
       "#'user/stocks"
      ]
     },
     "execution_count": 11,
     "metadata": {},
     "output_type": "execute_result"
    }
   ],
   "source": [
    "(def stocks\n",
    "  (tc/dataset\n",
    "   \"https://raw.githubusercontent.com/techascent/tech.ml.dataset/master/test/data/stocks.csv\"\n",
    "   {:key-fn keyword}))\n",
    "\n"
   ]
  },
  {
   "cell_type": "code",
   "execution_count": 12,
   "id": "b11e5fdc-ff20-4b28-90a7-bcfa8dfbb6b5",
   "metadata": {},
   "outputs": [
    {
     "data": {
      "text/plain": [
       "https://raw.githubusercontent.com/techascent/tech.ml.dataset/master/test/data/stocks.csv [560 3]:\n",
       "\n",
       "| :symbol |      :date | :price |\n",
       "|---------|------------|-------:|\n",
       "|    MSFT | 2000-01-01 |  39.81 |\n",
       "|    MSFT | 2000-02-01 |  36.35 |\n",
       "|    MSFT | 2000-03-01 |  43.22 |\n",
       "|    MSFT | 2000-04-01 |  28.37 |\n",
       "|    MSFT | 2000-05-01 |  25.45 |\n",
       "|    MSFT | 2000-06-01 |  32.54 |\n",
       "|    MSFT | 2000-07-01 |  28.40 |\n",
       "|    MSFT | 2000-08-01 |  28.40 |\n",
       "|    MSFT | 2000-09-01 |  24.53 |\n",
       "|    MSFT | 2000-10-01 |  28.02 |\n",
       "|     ... |        ... |    ... |\n",
       "|    AAPL | 2009-05-01 | 135.81 |\n",
       "|    AAPL | 2009-06-01 | 142.43 |\n",
       "|    AAPL | 2009-07-01 | 163.39 |\n",
       "|    AAPL | 2009-08-01 | 168.21 |\n",
       "|    AAPL | 2009-09-01 | 185.35 |\n",
       "|    AAPL | 2009-10-01 | 188.50 |\n",
       "|    AAPL | 2009-11-01 | 199.91 |\n",
       "|    AAPL | 2009-12-01 | 210.73 |\n",
       "|    AAPL | 2010-01-01 | 192.06 |\n",
       "|    AAPL | 2010-02-01 | 204.62 |\n",
       "|    AAPL | 2010-03-01 | 223.02 |\n"
      ]
     },
     "execution_count": 12,
     "metadata": {},
     "output_type": "execute_result"
    }
   ],
   "source": [
    "stocks"
   ]
  },
  {
   "cell_type": "code",
   "execution_count": 13,
   "id": "390a3659-dfad-41d5-921d-4ca4f33fb957",
   "metadata": {},
   "outputs": [
    {
     "data": {
      "text/plain": [
       "{:value https://raw.githubusercontent.com/techascent/tech.ml.dataset/master/test/data/stocks.csv [560 3]:\n",
       "\n",
       "| :symbol |      :date | :price |\n",
       "|---------|------------|-------:|\n",
       "|    MSFT | 2000-01-01 |  39.81 |\n",
       "|    MSFT | 2000-02-01 |  36.35 |\n",
       "|    MSFT | 2000-03-01 |  43.22 |\n",
       "|    MSFT | 2000-04-01 |  28.37 |\n",
       "|    MSFT | 2000-05-01 |  25.45 |\n",
       "|    MSFT | 2000-06-01 |  32.54 |\n",
       "|    MSFT | 2000-07-01 |  28.40 |\n",
       "|    MSFT | 2000-08-01 |  28.40 |\n",
       "|    MSFT | 2000-09-01 |  24.53 |\n",
       "|    MSFT | 2000-10-01 |  28.02 |\n",
       "|     ... |        ... |    ... |\n",
       "|    AAPL | 2009-05-01 | 135.81 |\n",
       "|    AAPL | 2009-06-01 | 142.43 |\n",
       "|    AAPL | 2009-07-01 | 163.39 |\n",
       "|    AAPL | 2009-08-01 | 168.21 |\n",
       "|    AAPL | 2009-09-01 | 185.35 |\n",
       "|    AAPL | 2009-10-01 | 188.50 |\n",
       "|    AAPL | 2009-11-01 | 199.91 |\n",
       "|    AAPL | 2009-12-01 | 210.73 |\n",
       "|    AAPL | 2010-01-01 | 192.06 |\n",
       "|    AAPL | 2010-02-01 | 204.62 |\n",
       "|    AAPL | 2010-03-01 | 223.02 |\n",
       ", :meta-kind nil, :kindly/options {}, :kind :kind/dataset, :advice [[:kind/dataset {:reason :predicate}] [:kind/map {:reason :predicate}]]}"
      ]
     },
     "execution_count": 13,
     "metadata": {},
     "output_type": "execute_result"
    }
   ],
   "source": [
    "(kindly-advice/advise {:value stocks})"
   ]
  },
  {
   "cell_type": "code",
   "execution_count": 14,
   "id": "2ec8d240-c0e8-4bb1-ae41-6ee1cfd7329b",
   "metadata": {},
   "outputs": [
    {
     "name": "stderr",
     "output_type": "stream",
     "text": [
      "Syntax error reading source at (REPL:1:5).\n",
      "Invalid token: tc/\n"
     ]
    },
    {
     "ename": "class clojure.lang.ExceptionInfo",
     "evalue": "",
     "execution_count": 14,
     "output_type": "error",
     "status": "error",
     "traceback": [
      "      Util.java:   221 clojure.lang.Util/runtimeException",
      "LispReader.java:   412 clojure.lang.LispReader/interpretToken",
      "LispReader.java:   305 clojure.lang.LispReader/read",
      "LispReader.java:  1398 clojure.lang.LispReader/readDelimitedList",
      "LispReader.java:  1243 clojure.lang.LispReader$ListReader/invoke",
      "LispReader.java:   285 clojure.lang.LispReader/read",
      "       core.clj:  3770 clojure.core$read/invokeStatic",
      "       core.clj:  3743 clojure.core$read/invoke"
     ]
    }
   ],
   "source": [
    "(tablecloth.api/head)"
   ]
  },
  {
   "cell_type": "code",
   "execution_count": null,
   "id": "45271866-82b6-4eb9-8285-ca901318089e",
   "metadata": {},
   "outputs": [],
   "source": []
  }
 ],
 "metadata": {
  "kernelspec": {
   "display_name": "Clojure (clojupyter-0.4.335)",
   "language": "clojure",
   "name": "clojupyter-0.4.335"
  },
  "language_info": {
   "file_extension": ".clj",
   "mimetype": "text/x-clojure",
   "name": "clojure",
   "version": "1.11.3"
  }
 },
 "nbformat": 4,
 "nbformat_minor": 5
}
